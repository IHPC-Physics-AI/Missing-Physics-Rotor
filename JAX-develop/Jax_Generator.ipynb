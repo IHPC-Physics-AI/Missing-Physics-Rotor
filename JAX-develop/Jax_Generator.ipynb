{
  "nbformat": 4,
  "nbformat_minor": 0,
  "metadata": {
    "colab": {
      "provenance": []
    },
    "kernelspec": {
      "name": "python3",
      "display_name": "Python 3"
    },
    "language_info": {
      "name": "python"
    }
  },
  "cells": [
    {
      "cell_type": "code",
      "source": [
        "## Single ODE system for a Spinning Rotor\n",
        "## Simple NN for fixed t = 20.0s and f = 3.0Hz\n",
        "\n",
        "import jax\n",
        "import jax.numpy as jnp\n",
        "from flax import linen as nn\n",
        "from flax.training import train_state\n",
        "import optax\n",
        "from functools import partial\n",
        "import matplotlib.pyplot as plt"
      ],
      "metadata": {
        "id": "13NDK27wTJxm"
      },
      "execution_count": 26,
      "outputs": []
    },
    {
      "cell_type": "code",
      "source": [
        "jax.config.update(\"jax_enable_x64\", True)\n",
        "jax.config.jax_enable_x64"
      ],
      "metadata": {
        "colab": {
          "base_uri": "https://localhost:8080/"
        },
        "id": "JWWHKLy2Tazz",
        "outputId": "937b7750-5bf9-49a7-d209-196aad3789ad"
      },
      "execution_count": 27,
      "outputs": [
        {
          "output_type": "execute_result",
          "data": {
            "text/plain": [
              "True"
            ]
          },
          "metadata": {},
          "execution_count": 27
        }
      ]
    },
    {
      "cell_type": "code",
      "source": [
        "# Constants\n",
        "I = 4.667e-10  # Moment of inertia (kg·m²)\n",
        "gamma = 0.118  # Friction coefficient (rad/s)\n",
        "c = I * gamma  # Damping coefficient (N·m·s)\n",
        "epsilon = 8.854e-12  # Permittivity (F/m)\n",
        "A = 2e-6  # Effective area (m²)\n",
        "V0 = 600  # Peak voltage (V)\n",
        "R = 0.005  # Radius of rotor (m)\n",
        "d0 = 0.001  # Baseline distance (m)"
      ],
      "metadata": {
        "id": "zSdWIBlPV99i"
      },
      "execution_count": 28,
      "outputs": []
    },
    {
      "cell_type": "code",
      "source": [
        "# Rotor arms and electrode angles\n",
        "arm_angles = jnp.array([0, jnp.pi / 2])  # Arm 1 and Arm 2\n",
        "electrode_angles = jnp.linspace(0, 2 * jnp.pi, 6, endpoint=False)  # 6 electrodes\n",
        "\n",
        "# Precomputed constants\n",
        "R2 = 2 * R\n",
        "d0_squared = d0**2\n",
        "epsilon_A = epsilon * A\n",
        "R_epsilon_A = epsilon_A * R"
      ],
      "metadata": {
        "id": "LfrUwplwTKcz"
      },
      "execution_count": 29,
      "outputs": []
    },
    {
      "cell_type": "code",
      "source": [
        "# Initialize random key\n",
        "rng = jax.random.PRNGKey(42)"
      ],
      "metadata": {
        "id": "S_-ArhNUTKf-"
      },
      "execution_count": 30,
      "outputs": []
    },
    {
      "cell_type": "code",
      "source": [
        "# Precompute triangular waveforms on a time grid\n",
        "time_grid = jnp.linspace(0, 1, 1000)\n",
        "V1_table = V0 * (2 * jnp.abs(2 * (time_grid % 1) - 1) - 1)\n",
        "V2_table = jnp.roll(V1_table, int(len(time_grid) / 3))\n",
        "V3_table = jnp.roll(V1_table, int(2 * len(time_grid) / 3))\n",
        "\n",
        "def electrode_voltages_precomputed(t, f):\n",
        "    idx = int((f * t) % 1 * len(time_grid))\n",
        "    v1 = V1_table[idx]\n",
        "    v2 = V2_table[idx]\n",
        "    v3 = V3_table[idx]\n",
        "    return jnp.array([v1, v2, v3, v1, v2, v3])"
      ],
      "metadata": {
        "id": "PfArj8U2Wc1j"
      },
      "execution_count": 31,
      "outputs": []
    },
    {
      "cell_type": "code",
      "source": [
        "def compute_torques_scalar(theta, t, f):\n",
        "    angle_diff = theta + arm_angles[:, jnp.newaxis] - electrode_angles[jnp.newaxis, :]\n",
        "    sin_half_angle_diff = jnp.sin(angle_diff / 2)\n",
        "    distances_squared = d0_squared + (R2 * sin_half_angle_diff)**2\n",
        "    voltages_squared = electrode_voltages_precomputed(t, f)**2\n",
        "    torques = R_epsilon_A * voltages_squared / distances_squared * jnp.sign(jnp.sin(angle_diff))\n",
        "    return jnp.sum(torques)"
      ],
      "metadata": {
        "id": "5Pbow0EqTQAH"
      },
      "execution_count": 32,
      "outputs": []
    },
    {
      "cell_type": "code",
      "source": [
        "# Generate and scale training data\n",
        "theta_train = jnp.linspace(0, 2*jnp.pi, 20)\n",
        "torque_train = jax.vmap(partial(compute_torques_scalar, t=20.0, f=3.0))(theta_train)"
      ],
      "metadata": {
        "id": "Ecnmu6wSTT92"
      },
      "execution_count": 34,
      "outputs": []
    },
    {
      "cell_type": "code",
      "source": [
        "print(torque_train)"
      ],
      "metadata": {
        "colab": {
          "base_uri": "https://localhost:8080/"
        },
        "id": "xyLW38wRTQHg",
        "outputId": "33728062-31b5-4697-8f8d-bd9714fcdc02"
      },
      "execution_count": 35,
      "outputs": [
        {
          "output_type": "stream",
          "name": "stdout",
          "text": [
            "[-3.31581023e-10  5.93653458e-09  2.98745483e-09 -4.92253625e-09\n",
            " -1.08499942e-08  2.64907532e-08  2.30711254e-09  9.92081298e-10\n",
            "  1.93177036e-10 -1.77932128e-08  1.77517714e-08 -3.44530280e-10\n",
            " -8.70269385e-10 -2.42706725e-09 -2.65249321e-08  1.07939770e-08\n",
            "  5.09983525e-09 -2.84281019e-09 -6.01827934e-09 -3.15748048e-08]\n"
          ]
        }
      ]
    },
    {
      "cell_type": "code",
      "source": [],
      "metadata": {
        "id": "XV-eRVbXYo3f"
      },
      "execution_count": null,
      "outputs": []
    },
    {
      "cell_type": "code",
      "source": [],
      "metadata": {
        "id": "bYsr9aeGYo6D"
      },
      "execution_count": null,
      "outputs": []
    },
    {
      "cell_type": "code",
      "source": [],
      "metadata": {
        "id": "PH3l3rpwYo9A"
      },
      "execution_count": null,
      "outputs": []
    },
    {
      "cell_type": "code",
      "source": [],
      "metadata": {
        "id": "ZWDOaFM7Yo_l"
      },
      "execution_count": null,
      "outputs": []
    },
    {
      "cell_type": "markdown",
      "source": [
        "Didn't check further after this."
      ],
      "metadata": {
        "id": "-CTQT7cYYqay"
      }
    },
    {
      "cell_type": "code",
      "source": [],
      "metadata": {
        "id": "CBmrxBQlYpCn"
      },
      "execution_count": null,
      "outputs": []
    },
    {
      "cell_type": "code",
      "execution_count": null,
      "metadata": {
        "id": "uHzNRsxQTG1q"
      },
      "outputs": [],
      "source": [
        "\n",
        "\n",
        "\n",
        "# =============================================\n",
        "# Enhanced Scaling (Handles Tiny Values)\n",
        "# =============================================\n",
        "def scale_torque(torque):\n",
        "    \"\"\"Scale torque to [-1, 1] range before normalization\"\"\"\n",
        "    scale_factor = 1e10  # Adjust based on your torque magnitude\n",
        "    scaled = torque * scale_factor\n",
        "    return scaled, scale_factor\n",
        "\n",
        "\n",
        "torque_train_scaled, torque_scale = scale_torque(torque_train)  # Now in ~[-1,1] range\n",
        "# Reshape data\n",
        "theta_train = theta_train.reshape(-1, 1)\n",
        "torque_train_scaled = torque_train_scaled.reshape(-1, 1)\n",
        "class TorquePredictor(nn.Module):\n",
        "    @nn.compact\n",
        "    def __call__(self, x):\n",
        "        # Rich periodic encoding applied within layers\n",
        "        x = nn.Dense(256)(x)\n",
        "\n",
        "        # Add sinusoidal transformations at this stage\n",
        "        x = jnp.sin(x) + jnp.cos(x)  # Apply sin and cos to output of first layer. Activation functions changes input.\n",
        "        x = nn.Dense(128)(x) #2 and 4 updated as weights for new inputs.\n",
        "        x = nn.swish(x)\n",
        "\n",
        "        # Third layer with periodic encoding\n",
        "        x = nn.Dense(64)(x)\n",
        "        x = nn.swish(x)\n",
        "\n",
        "        # Final output layer\n",
        "        return nn.Dense(1)(x)  # Linear output\n",
        "# Initialize model\n",
        "model = TorquePredictor()\n",
        "params = model.init(rng, jnp.ones((1, 1)))\n",
        "\n",
        "# =============================================\n",
        "# Robust Training Setup\n",
        "# =============================================\n",
        "optimizer = optax.chain( #Combines multiple transformations to apply to the optimisation process in order into a single transformation.\n",
        "    optax.clip(1.0),  # Gradient clipping to prevent them from exceeding a certain magnitude. Avoid issues of numerical instability caused by exploding gradients.\n",
        "    optax.adam(learning_rate=1e-4)  # Smaller learning rate\n",
        ")\n",
        "state = train_state.TrainState.create(\n",
        "    apply_fn=model.apply,\n",
        "    params=params,\n",
        "    tx=optimizer\n",
        ")\n",
        "# Training loop\n",
        "@jax.jit\n",
        "def train_step(state, batch):\n",
        "    theta_batch, torque_batch = batch\n",
        "    def loss_fn(params):\n",
        "        pred = state.apply_fn(params, theta_batch)\n",
        "        return jnp.mean((pred - torque_batch)**2)\n",
        "    loss, grads = jax.value_and_grad(loss_fn)(state.params)\n",
        "    return state.apply_gradients(grads=grads), loss\n",
        "\n",
        "for epoch in range(3000):\n",
        "    state, loss = train_step(state, (theta_train, torque_train_scaled))\n",
        "    if epoch % 100 == 0:\n",
        "        print(f\"Epoch {epoch}, Loss: {loss:.4f}\")\n",
        "# =============================================\n",
        "# Evaluation\n",
        "# =============================================\n",
        "theta_test = jnp.linspace(0, 2*jnp.pi, 500).reshape(-1, 1)\n",
        "torque_true = jax.vmap(partial(compute_torques_scalar, t=20.0, f=3.0))(theta_test.squeeze())\n",
        "\n",
        "# Predict and rescale\n",
        "torque_pred_scaled = model.apply(state.params, theta_test)\n",
        "torque_pred = torque_pred_scaled / torque_scale  # Reverse scaling\n",
        "\n",
        "# Plotting\n",
        "plt.figure(figsize=(12, 6))\n",
        "plt.plot(theta_test, torque_true, label='True Torque', linewidth=2)\n",
        "plt.plot(theta_test, torque_pred, '--', label='NN Prediction', linewidth=2)\n",
        "plt.xlabel('Theta (radians)')\n",
        "plt.ylabel('Torque (Original Scale)')\n",
        "plt.legend()\n",
        "plt.grid(True)\n",
        "plt.title('Improved Torque Prediction')\n",
        "plt.show()\n",
        "\n",
        "# Metrics\n",
        "mse = jnp.mean((torque_true - torque_pred)**2)\n",
        "print(f\"Test MSE: {mse:.3e}\")\n",
        "print(f\"Max Error: {jnp.max(jnp.abs(torque_true - torque_pred)):.3e}\")\n",
        "\n",
        "## Simple NN for fixed t = 20.0s ONLY\n",
        "import jax\n",
        "import jax.numpy as jnp\n",
        "from flax import linen as nn\n",
        "from flax.training import train_state\n",
        "import optax\n",
        "from functools import partial\n",
        "from jax import config\n",
        "config.update(\"jax_enable_x64\", True) #Critical for tiny values\n",
        "import matplotlib.pyplot as plt\n",
        "\n",
        "# Initialize random key\n",
        "rng = jax.random.PRNGKey(42)\n",
        "\n",
        "# Constants (replace with your actual values)\n",
        "R2 = 1.0\n",
        "d0_squared = 0.1\n",
        "R_epsilon_A = 0.5\n",
        "arm_angles = jnp.array([0.0, jnp.pi/2, jnp.pi, 3*jnp.pi/2])\n",
        "electrode_angles = jnp.array([0.0, jnp.pi])\n",
        "\n",
        "# Torque computation function\n",
        "def electrode_voltages_precomputed(t, f):\n",
        "    return 10.0 * jnp.sin(2*jnp.pi*f*t)\n",
        "\n",
        "def compute_torques_scalar(theta, t, f):\n",
        "    angle_diff = theta + arm_angles[:, jnp.newaxis] - electrode_angles[jnp.newaxis, :]\n",
        "    sin_half_angle_diff = jnp.sin(angle_diff / 2)\n",
        "    distances_squared = d0_squared + (R2 * sin_half_angle_diff)**2\n",
        "    voltages_squared = electrode_voltages_precomputed(t, f)**2\n",
        "    torques = R_epsilon_A * voltages_squared / distances_squared * jnp.sign(jnp.sin(angle_diff))\n",
        "    return jnp.sum(torques)  #if jian cheng's calculation is correct, should be -500 to 500.\n",
        "\n",
        "# Define a function that takes theta and f and uses the fixed t\n",
        "def compute_torques(theta, f):\n",
        "    return compute_torques_scalar(theta, t=20.0, f=f)\n",
        "\n",
        "# =============================================\n",
        "# Enhanced Scaling (Handles Tiny Values)\n",
        "# =============================================\n",
        "def scale_torque(torque):\n",
        "    log_torque = jnp.log10(jnp.abs(torque) + 1e-20)  # Adjust based on your torque magnitude\n",
        "    scaled = log_torque / jnp.max(jnp.abs(jnp.log10(jnp.abs(torque) + 1e-20))) #Normalize to [-1, 1]\n",
        "    return scaled, None\n",
        "\n",
        "# Generate the training data for theta\n",
        "theta_train = jnp.linspace(0, 2 * jnp.pi, 1000)\n",
        "\n",
        "# Generate the training data for frequency f_train\n",
        "f_train = jnp.linspace(0.5, 8.5, 1000)\n",
        "\n",
        "# Use vmap to apply compute_torques over the inputs\n",
        "torque_train = jax.vmap(compute_torques, in_axes=(0, 0))(theta_train, f_train)\n",
        "\n",
        "# Scale torque values\n",
        "torque_train_scaled, torque_scaled = scale_torque(torque_train)\n",
        "\n",
        "# Reshape data\n",
        "theta_train = theta_train.reshape(-1, 1)\n",
        "torque_train_scaled = torque_train_scaled.reshape(-1, 1)\n",
        "f_train = f_train.reshape(-1, 1)  # Reshape f_train\n",
        "\n",
        "# =============================================\n",
        "# Enhanced Model Architecture\n",
        "# =============================================\n",
        "# =============================================\n",
        "# Enhanced Model Architecture\n",
        "# =============================================\n",
        "class TorquePredictor(nn.Module):\n",
        "    @nn.compact\n",
        "    def __call__(self, theta, f):\n",
        "        # Rich periodic encoding\n",
        "        theta_encoded = jnp.concatenate([\n",
        "            theta,\n",
        "            jnp.sin(theta), jnp.cos(theta),\n",
        "            jnp.sin(2*theta), jnp.cos(2*theta),\n",
        "            jnp.sin(4*theta), jnp.cos(4*theta)\n",
        "        ], axis=-1)\n",
        "\n",
        "        # Concatenate the encoded theta with f\n",
        "        x = jnp.concatenate([theta_encoded, f], axis=-1)\n",
        "\n",
        "        # Larger network with residual connections\n",
        "        x = nn.Dense(256)(x)\n",
        "        x = nn.swish(x) #Swish is better than ReLU for physics problems.\n",
        "        x = nn.Dense(128)(x)\n",
        "        x = nn.swish(x)\n",
        "        x = nn.Dense(64)(x)\n",
        "        x = nn.swish(x)\n",
        "        return nn.Dense(1)(x)  # Linear output\n",
        "\n",
        "# Initialize model\n",
        "model = TorquePredictor()\n",
        "params = model.init(rng, jnp.ones((1, 1)), jnp.ones((1, 1)))\n",
        "\n",
        "# =============================================\n",
        "# Robust Training Setup\n",
        "# =============================================\n",
        "optimizer = optax.chain( #Combines multiple transformations to apply to the optimisation process in order into a single transformation.\n",
        "    optax.clip(1.0),  # Gradient clipping to prevent them from exceeding a certain magnitude. Avoid issues of numerical instability caused by exploding gradients.\n",
        "    optax.adam(learning_rate=1e-4)  # Smaller learning rate\n",
        ")\n",
        "state = train_state.TrainState.create(\n",
        "    apply_fn=model.apply,\n",
        "    params=params,\n",
        "    tx=optimizer\n",
        ")\n",
        "\n",
        "# Training loop\n",
        "@jax.jit\n",
        "def train_step(state, batch):\n",
        "    theta_batch, torque_batch, f_batch = batch\n",
        "    def loss_fn(params):\n",
        "        pred = state.apply_fn(params, theta_batch, f_batch)\n",
        "        return jnp.mean((pred - torque_batch)**2)\n",
        "    loss, grads = jax.value_and_grad(loss_fn)(state.params)\n",
        "    return state.apply_gradients(grads=grads), loss\n",
        "\n",
        "for epoch in range(3000):\n",
        "    state, loss = train_step(state, (theta_train, torque_train_scaled, f_train))\n",
        "    if epoch % 100 == 0:\n",
        "        print(f\"Epoch {epoch}, Loss: {loss:.4f}\")\n",
        "\n",
        "# =============================================\n",
        "# Evaluation\n",
        "# =============================================\n",
        "\n",
        "# Generate theta_test values\n",
        "theta_test = jnp.linspace(0, 2 * jnp.pi, 10).reshape(-1, 1)\n",
        "f_test = jnp.linspace(0.5, 3.0, 10).reshape(-1, 1)\n",
        "\n",
        "# Compute true torque with a specific frequency for comparison\n",
        "#torque_true = jax.vmap((compute_torques))(theta_test.squeeze(), f_test.squeeze())\n",
        "# Compute true torque with a specific frequency for comparison\n",
        "torque_true = jnp.array([compute_torques_scalar(theta, t=20.0, f=f) for theta, f in zip(theta_test.squeeze(), f_test.squeeze())])\n",
        "\n",
        "# Predict using the trained model, including f_test\n",
        "max_log = jnp.max(jnp.abs(jnp.log10(jnp.abs(torque_train) + 1e-20)))\n",
        "torque_pred_scaled = model.apply(state.params, theta_test, f_test)\n",
        "torque_pred = 10**(torque_pred_scaled*max_log)\n",
        "\n",
        "# Create the plot\n",
        "fig, ax1 = plt.subplots(figsize=(12, 6))\n",
        "\n",
        "# Plot true torque and predicted torque on the primary y-axis\n",
        "ax1.plot(theta_test, torque_true, label='True Torque', linewidth=2, color='blue')\n",
        "ax1.plot(theta_test, torque_pred, '--', label='NN Prediction', linewidth=2, color='orange')\n",
        "ax1.set_xlabel('Theta (radians)')\n",
        "ax1.set_ylabel('Torque (Original Scale)', color='black')\n",
        "ax1.tick_params(axis='y', labelcolor='black')\n",
        "ax1.legend(loc='upper left')\n",
        "ax1.grid(True)\n",
        "\n",
        "# Create a secondary x-axis for frequency\n",
        "ax2 = ax1.twiny()  # Instantiate a second axes that shares the same y-axis\n",
        "\n",
        "# Optional: Set limits for clarity if needed\n",
        "# ax2.set_xlim(0.5, 8.5)  # Adjust x-limits for frequency if needed\n",
        "\n",
        "# Add legend for frequency\n",
        "ax2.legend(loc='upper right')\n",
        "\n",
        "# Show the title and the plot\n",
        "plt.title('Improved Torque Prediction with Frequency')\n",
        "plt.tight_layout()  # Adjust layout to prevent overlap\n",
        "plt.show()\n",
        "\n",
        "# Metrics\n",
        "mse = jnp.mean((torque_true - torque_pred)**2)\n",
        "print(f\"Test MSE: {mse:.3e}\")\n",
        "print(f\"Max Error: {jnp.max(jnp.abs(torque_true - torque_pred)):.3e}\")\n"
      ]
    }
  ]
}
